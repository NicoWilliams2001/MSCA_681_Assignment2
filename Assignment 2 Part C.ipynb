{
 "cells": [
  {
   "cell_type": "markdown",
   "id": "e2c73d0e-3cad-4560-ae3c-bb531c9e9714",
   "metadata": {},
   "source": [
    "C) Train a Gradient Boosting Regressor to predict Sales"
   ]
  },
  {
   "cell_type": "markdown",
   "id": "f2fca4e2-49a3-4967-ac85-dba47d74231b",
   "metadata": {},
   "source": [
    "C-2) Tune at least two hyperparameters using cross validation"
   ]
  },
  {
   "cell_type": "code",
   "execution_count": 8,
   "id": "9dcfff6e-f2ca-46d2-a5f0-6a1e3ab644b6",
   "metadata": {},
   "outputs": [
    {
     "data": {
      "text/html": [
       "<div>\n",
       "<style scoped>\n",
       "    .dataframe tbody tr th:only-of-type {\n",
       "        vertical-align: middle;\n",
       "    }\n",
       "\n",
       "    .dataframe tbody tr th {\n",
       "        vertical-align: top;\n",
       "    }\n",
       "\n",
       "    .dataframe thead th {\n",
       "        text-align: right;\n",
       "    }\n",
       "</style>\n",
       "<table border=\"1\" class=\"dataframe\">\n",
       "  <thead>\n",
       "    <tr style=\"text-align: right;\">\n",
       "      <th></th>\n",
       "      <th>Unnamed: 0</th>\n",
       "      <th>Sales</th>\n",
       "      <th>CompPrice</th>\n",
       "      <th>Income</th>\n",
       "      <th>Advertising</th>\n",
       "      <th>Population</th>\n",
       "      <th>Price</th>\n",
       "      <th>ShelveLoc</th>\n",
       "      <th>Age</th>\n",
       "      <th>Education</th>\n",
       "      <th>Urban</th>\n",
       "      <th>US</th>\n",
       "    </tr>\n",
       "  </thead>\n",
       "  <tbody>\n",
       "    <tr>\n",
       "      <th>0</th>\n",
       "      <td>1</td>\n",
       "      <td>9.50</td>\n",
       "      <td>138</td>\n",
       "      <td>73</td>\n",
       "      <td>11</td>\n",
       "      <td>276</td>\n",
       "      <td>120</td>\n",
       "      <td>Bad</td>\n",
       "      <td>42</td>\n",
       "      <td>17</td>\n",
       "      <td>Yes</td>\n",
       "      <td>Yes</td>\n",
       "    </tr>\n",
       "    <tr>\n",
       "      <th>1</th>\n",
       "      <td>2</td>\n",
       "      <td>11.22</td>\n",
       "      <td>111</td>\n",
       "      <td>48</td>\n",
       "      <td>16</td>\n",
       "      <td>260</td>\n",
       "      <td>83</td>\n",
       "      <td>Good</td>\n",
       "      <td>65</td>\n",
       "      <td>10</td>\n",
       "      <td>Yes</td>\n",
       "      <td>Yes</td>\n",
       "    </tr>\n",
       "    <tr>\n",
       "      <th>2</th>\n",
       "      <td>3</td>\n",
       "      <td>10.06</td>\n",
       "      <td>113</td>\n",
       "      <td>35</td>\n",
       "      <td>10</td>\n",
       "      <td>269</td>\n",
       "      <td>80</td>\n",
       "      <td>Medium</td>\n",
       "      <td>59</td>\n",
       "      <td>12</td>\n",
       "      <td>Yes</td>\n",
       "      <td>Yes</td>\n",
       "    </tr>\n",
       "    <tr>\n",
       "      <th>3</th>\n",
       "      <td>4</td>\n",
       "      <td>7.40</td>\n",
       "      <td>117</td>\n",
       "      <td>100</td>\n",
       "      <td>4</td>\n",
       "      <td>466</td>\n",
       "      <td>97</td>\n",
       "      <td>Medium</td>\n",
       "      <td>55</td>\n",
       "      <td>14</td>\n",
       "      <td>Yes</td>\n",
       "      <td>Yes</td>\n",
       "    </tr>\n",
       "    <tr>\n",
       "      <th>4</th>\n",
       "      <td>5</td>\n",
       "      <td>4.15</td>\n",
       "      <td>141</td>\n",
       "      <td>64</td>\n",
       "      <td>3</td>\n",
       "      <td>340</td>\n",
       "      <td>128</td>\n",
       "      <td>Bad</td>\n",
       "      <td>38</td>\n",
       "      <td>13</td>\n",
       "      <td>Yes</td>\n",
       "      <td>No</td>\n",
       "    </tr>\n",
       "  </tbody>\n",
       "</table>\n",
       "</div>"
      ],
      "text/plain": [
       "   Unnamed: 0  Sales  CompPrice  Income  Advertising  Population  Price  \\\n",
       "0           1   9.50        138      73           11         276    120   \n",
       "1           2  11.22        111      48           16         260     83   \n",
       "2           3  10.06        113      35           10         269     80   \n",
       "3           4   7.40        117     100            4         466     97   \n",
       "4           5   4.15        141      64            3         340    128   \n",
       "\n",
       "  ShelveLoc  Age  Education Urban   US  \n",
       "0       Bad   42         17   Yes  Yes  \n",
       "1      Good   65         10   Yes  Yes  \n",
       "2    Medium   59         12   Yes  Yes  \n",
       "3    Medium   55         14   Yes  Yes  \n",
       "4       Bad   38         13   Yes   No  "
      ]
     },
     "execution_count": 8,
     "metadata": {},
     "output_type": "execute_result"
    }
   ],
   "source": [
    "import pandas as pd \n",
    "\n",
    "data_path = r'/Users/nathaliesaid/Desktop/MSCA 681/Carseats.csv'\n",
    "\n",
    "carseats_df = pd.read_csv(data_path)\n",
    "\n",
    "carseats_df.head()"
   ]
  },
  {
   "cell_type": "code",
   "execution_count": 12,
   "id": "219f1175-3eb1-4734-bdac-b22723b7a7ae",
   "metadata": {},
   "outputs": [
    {
     "name": "stdout",
     "output_type": "stream",
     "text": [
      "Fitting 5 folds for each of 36 candidates, totalling 180 fits\n",
      "Best hyperparameters: {'learning_rate': 0.1, 'max_depth': np.int64(2), 'n_estimators': 200}\n"
     ]
    }
   ],
   "source": [
    "\n",
    "from sklearn.model_selection import train_test_split\n",
    "\n",
    "#Split the data into temp and test sets\n",
    "temp_df, train_df = train_test_split(carseats_df, test_size=0.6, random_state=42)\n",
    "\n",
    "#Split the data into train and validation sets\n",
    "test_df, validation_df = train_test_split(temp_df, test_size=0.5, random_state=42)\n",
    "\n",
    "from sklearn.ensemble import GradientBoostingRegressor\n",
    "from sklearn.model_selection import train_test_split, GridSearchCV\n",
    "from sklearn.metrics import mean_absolute_error, mean_squared_error\n",
    "import numpy as np\n",
    "import random\n",
    "\n",
    "X_train = train_df.drop(\"Sales\", axis=1)\n",
    "y_train = train_df[\"Sales\"]\n",
    "\n",
    "X_validation = validation_df.drop(\"Sales\", axis=1)\n",
    "y_validation = validation_df[\"Sales\"]\n",
    "\n",
    "X_test = test_df.drop(\"Sales\", axis=1)\n",
    "y_test = test_df[\"Sales\"]\n",
    "\n",
    "gbr = GradientBoostingRegressor(random_state=42)\n",
    "\n",
    "param_grid_gb = {\n",
    "    'n_estimators': [100, 200, 300],       \n",
    "    'max_depth': np.arange(2, 6, 1),       \n",
    "    'learning_rate': [0.01, 0.1, 0.2]      \n",
    "}\n",
    "\n",
    "grid_search = GridSearchCV(\n",
    "    estimator=gbr,\n",
    "    param_grid=param_grid_gb,\n",
    "    cv=5,\n",
    "    scoring='neg_mean_absolute_error',\n",
    "    n_jobs=-1,\n",
    "    verbose=1,\n",
    "    return_train_score=True\n",
    ")\n",
    "\n",
    "random.seed(42)\n",
    "grid_search.fit(X_train, y_train)\n",
    "\n",
    "best_gbr = grid_search.best_estimator_\n",
    "print(\"Best hyperparameters:\", grid_search.best_params_)"
   ]
  },
  {
   "cell_type": "markdown",
   "id": "3c202a2a-4478-41f5-b39f-3443ca9d8d3b",
   "metadata": {},
   "source": [
    "C-3) Evaluate the model on the validation and test sets using MAE and RMSE"
   ]
  },
  {
   "cell_type": "code",
   "execution_count": 15,
   "id": "8914bf73-58b3-42e2-8e1f-df63021c4099",
   "metadata": {},
   "outputs": [
    {
     "name": "stdout",
     "output_type": "stream",
     "text": [
      "Evaluate the model on the validation and test sets:\n",
      "Validation MAE:  1.121\n",
      "Validation RMSE: 1.390\n",
      "Test MAE:        1.194\n",
      "Test RMSE:       1.462\n"
     ]
    }
   ],
   "source": [
    "# Predictions\n",
    "y_pred_val = best_gbr.predict(X_validation)\n",
    "y_pred_test = best_gbr.predict(X_test)\n",
    "\n",
    "# MAE\n",
    "mae_val = mean_absolute_error(y_validation, y_pred_val)\n",
    "mae_test = mean_absolute_error(y_test, y_pred_test)\n",
    "\n",
    "#RMSE\n",
    "rmse_val = np.sqrt(mean_squared_error(y_validation, y_pred_val))\n",
    "rmse_test = np.sqrt(mean_squared_error(y_test, y_pred_test))\n",
    "\n",
    "# Display the results\n",
    "print(\"Evaluate the model on the validation and test sets:\")\n",
    "print(f\"Validation MAE:  {mae_val:.3f}\")\n",
    "print(f\"Validation RMSE: {rmse_val:.3f}\")\n",
    "print(f\"Test MAE:        {mae_test:.3f}\")\n",
    "print(f\"Test RMSE:       {rmse_test:.3f}\")"
   ]
  },
  {
   "cell_type": "markdown",
   "id": "a7b6b300-b08d-4831-9b70-378746f9d32f",
   "metadata": {},
   "source": [
    "C-4) Determine which variables are the most important"
   ]
  },
  {
   "cell_type": "code",
   "execution_count": 25,
   "id": "04eccf1b-ee55-4022-89f1-96b117e5ce1e",
   "metadata": {},
   "outputs": [
    {
     "name": "stdout",
     "output_type": "stream",
     "text": [
      "Top 3 Most Important Predictors:\n",
      "          Feature  Importance\n",
      "5           Price    0.298007\n",
      "8  ShelveLoc_Good    0.281415\n",
      "1       CompPrice    0.124005\n"
     ]
    },
    {
     "name": "stderr",
     "output_type": "stream",
     "text": [
      "/var/folders/lv/m7nbq2492g5b9kzr0l3p2k8h0000gn/T/ipykernel_52549/3266975839.py:19: FutureWarning: \n",
      "\n",
      "Passing `palette` without assigning `hue` is deprecated and will be removed in v0.14.0. Assign the `y` variable to `hue` and set `legend=False` for the same effect.\n",
      "\n",
      "  sns.barplot(\n"
     ]
    },
    {
     "data": {
      "image/png": "[encoded data removed]",
      "text/plain": [
       "<Figure size 1000x600 with 1 Axes>"
      ]
     },
     "metadata": {},
     "output_type": "display_data"
    }
   ],
   "source": [
    "import matplotlib.pyplot as plt\n",
    "import seaborn as sns\n",
    "\n",
    "importances = best_gbr.feature_importances_\n",
    "\n",
    "# Create a DataFrame\n",
    "feature_importance_df = pd.DataFrame({\n",
    "    'Feature': X_train.columns,\n",
    "    'Importance': importances\n",
    "}).sort_values(by='Importance', ascending=False)\n",
    "\n",
    "# Top features\n",
    "print(\"Top 3 Most Important Predictors:\")\n",
    "print(feature_importance_df.head(3))\n",
    "\n",
    "# Visualization\n",
    "plt.figure(figsize=(10,6))\n",
    "sns.barplot(\n",
    "    x='Importance', \n",
    "    y='Feature', \n",
    "    data=feature_importance_df.head(10), \n",
    "    palette='flare'\n",
    ")\n",
    "plt.title('Top 10 Feature Importances - Gradient Boosting Regressor', fontsize=20)\n",
    "plt.xlabel('Importance Score')\n",
    "plt.ylabel('Feature')\n",
    "plt.show()"
   ]
  },
  {
   "cell_type": "code",
   "execution_count": null,
   "id": "37db89f0-0c49-4517-9c6d-de8caa06f788",
   "metadata": {},
   "outputs": [],
   "source": []
  }
 ],
 "metadata": {
  "kernelspec": {
   "display_name": "Python [conda env:base] *",
   "language": "python",
   "name": "conda-base-py"
  },
  "language_info": {
   "codemirror_mode": {
    "name": "ipython",
    "version": 3
   },
   "file_extension": ".py",
   "mimetype": "text/x-python",
   "name": "python",
   "nbconvert_exporter": "python",
   "pygments_lexer": "ipython3",
   "version": "3.13.5"
  }
 },
 "nbformat": 4,
 "nbformat_minor": 5
}
